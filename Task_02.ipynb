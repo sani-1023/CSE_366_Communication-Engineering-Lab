{
  "nbformat": 4,
  "nbformat_minor": 0,
  "metadata": {
    "colab": {
      "name": "Task_02.ipynb",
      "provenance": []
    },
    "kernelspec": {
      "name": "python3",
      "display_name": "Python 3"
    },
    "language_info": {
      "name": "python"
    }
  },
  "cells": [
    {
      "cell_type": "markdown",
      "metadata": {
        "id": "XcNNkO-U5u5u"
      },
      "source": [
        "# Sani Talukder\n",
        "# Reg. no: 2017331023"
      ]
    },
    {
      "cell_type": "code",
      "metadata": {
        "id": "HvCR6ZWFtIcm"
      },
      "source": [
        "import numpy as np\n",
        "import matplotlib.pyplot as plt\n",
        "import math"
      ],
      "execution_count": 69,
      "outputs": []
    },
    {
      "cell_type": "markdown",
      "metadata": {
        "id": "AV7iBs3PtvYo"
      },
      "source": [
        "**Line Coding**\\\n",
        "**Line Coding Encoding - Unipolar - Non Return to Zero(NRZ)**"
      ]
    },
    {
      "cell_type": "code",
      "metadata": {
        "colab": {
          "base_uri": "https://localhost:8080/",
          "height": 278
        },
        "id": "tjsfxQiKtiT-",
        "outputId": "e8f95b85-42b9-4d68-9752-46cf1444f058"
      },
      "source": [
        "bits = np.array([1, 0, 0, 1, 0, 1, 0, 1, 1, 0, 1]) \n",
        "Time = 10e-7   \n",
        "bit_rate = 1/Time  \n",
        "Fs = 5*bit_rate    \n",
        "N = len(bits)   \n",
        "T = np.linspace(0,Time,100)\n",
        "\n",
        "x = np.array([])\n",
        "for i in range(N):\n",
        "  temp = bits[i]* np.ones(len(T))\n",
        "  x = np.append(x, temp)\n",
        "t = np.linspace(0,N*Time,len(x))\n",
        "\n",
        "plt.plot(t, x)\n",
        "plt.show()"
      ],
      "execution_count": 70,
      "outputs": [
        {
          "output_type": "display_data",
          "data": {
            "image/png": "[encoded data removed]",
            "text/plain": [
              "<Figure size 432x288 with 1 Axes>"
            ]
          },
          "metadata": {
            "needs_background": "light"
          }
        }
      ]
    },
    {
      "cell_type": "markdown",
      "metadata": {
        "id": "SlFKhTbburcS"
      },
      "source": [
        "**Line Coding Decoding - Unipolar - Non Return to Zero(NRZ)**"
      ]
    },
    {
      "cell_type": "code",
      "metadata": {
        "colab": {
          "base_uri": "https://localhost:8080/"
        },
        "id": "AuDcC_nouqG_",
        "outputId": "a070f73a-ddfd-43d8-8945-37f8247280ed"
      },
      "source": [
        "result = []\n",
        "counter = 0\n",
        "for i in range(len(t)):\n",
        "  if t[i]*bit_rate > counter:\n",
        "    counter = counter + 1\n",
        "    result.append(int(x[i]))\n",
        "\n",
        "print(result)"
      ],
      "execution_count": 71,
      "outputs": [
        {
          "output_type": "stream",
          "name": "stdout",
          "text": [
            "[1, 0, 0, 1, 0, 1, 0, 1, 1, 0, 1]\n"
          ]
        }
      ]
    },
    {
      "cell_type": "markdown",
      "metadata": {
        "id": "TuXiMiYvwZk9"
      },
      "source": [
        "**$NRZ-I$ Line Coding Decoding**"
      ]
    },
    {
      "cell_type": "code",
      "metadata": {
        "colab": {
          "base_uri": "https://localhost:8080/"
        },
        "id": "k_vp5kdrwca2",
        "outputId": "5bab0fd9-d018-4834-8cfc-0b7905fd4b81"
      },
      "source": [
        "result = []\n",
        "counter = 0\n",
        "last_bit = 1\n",
        "for i in range(len(t)):\n",
        "  if t[i]*bit_rate > counter:\n",
        "    counter = counter + 1\n",
        "    if x[i] != last_bit:\n",
        "      result.append(1)\n",
        "      last_bit=-last_bit\n",
        "    else:\n",
        "      result.append(0)\n",
        "\n",
        "print(result)"
      ],
      "execution_count": 72,
      "outputs": [
        {
          "output_type": "stream",
          "name": "stdout",
          "text": [
            "[0, 1, 1, 0, 1, 1, 1, 1, 0, 1, 1]\n"
          ]
        }
      ]
    }
  ]
}